{
  "nbformat": 4,
  "nbformat_minor": 0,
  "metadata": {
    "colab": {
      "name": "Conv2D_LSTM .ipynb",
      "private_outputs": true,
      "provenance": [],
      "collapsed_sections": [],
      "mount_file_id": "1iEDCnjDUEoKDvP47Id1RBC0fBBTJQZ2W",
      "authorship_tag": "ABX9TyN36F19v1iPPJsd/oq0fg/l",
      "include_colab_link": true
    },
    "kernelspec": {
      "name": "python3",
      "display_name": "Python 3"
    },
    "language_info": {
      "name": "python"
    },
    "accelerator": "GPU"
  },
  "cells": [
    {
      "cell_type": "markdown",
      "metadata": {
        "id": "view-in-github",
        "colab_type": "text"
      },
      "source": [
        "<a href=\"https://colab.research.google.com/github/JHyunjun/TF2.0_DMM/blob/main/Conv2D_LSTM_.ipynb\" target=\"_parent\"><img src=\"https://colab.research.google.com/assets/colab-badge.svg\" alt=\"Open In Colab\"/></a>"
      ]
    },
    {
      "cell_type": "code",
      "execution_count": null,
      "metadata": {
        "id": "uCZrz1gHn6rX"
      },
      "outputs": [],
      "source": [
        "from numpy import array\n",
        "from keras.models import Sequential\n",
        "from keras.layers import Dense\n",
        "from keras.layers import Flatten\n",
        "import tensorflow as tf\n",
        "import pandas as pd\n",
        "import numpy as np\n",
        "\n",
        "tf.random.set_seed(1)\n",
        "\n",
        "#Data Load\n",
        "df_train = pd.read_csv('/content/drive/MyDrive/Colab Notebooks/Data/Batt/train_v.txt')\n",
        "df_test = pd.read_csv('/content/drive/MyDrive/Colab Notebooks/Data/Batt/test_v.txt')\n",
        "train_data_input = df_train.iloc[:,:-1]\n",
        "train_data_output = df_train.iloc[:,-1]\n",
        "test_data_input = df_test.iloc[:,:-1]\n",
        "test_data_output = df_test.iloc[:,-1]\n",
        "\n",
        "train_data = df_train.iloc[:,:]\n",
        "test_data = df_test.iloc[:,:]\n",
        "\n",
        "trainSet_for_result = train_data\n",
        "testSet_for_result = test_data\n",
        "\n",
        "print(train_data_input.shape,train_data_input)\n",
        "print(train_data_output.shape, train_data_output)\n",
        "print(\"train_data : \",train_data.shape,train_data)\n",
        "print(\"test_data : \",test_data.shape,test_data)"
      ]
    },
    {
      "cell_type": "code",
      "source": [
        "#Normalization\n",
        "def MinMaxScaler(data):\n",
        "  denom = np.max(data,0) - np.min(data,0)\n",
        "  nume = data-np.min(data,0)\n",
        "  return nume/denom\n",
        "\n",
        "def back_MinMax(data,max,min):\n",
        "  diff = max-min\n",
        "  back = data * diff + min\n",
        "  return back\n",
        "\n",
        "seqLength = 10\n",
        "dataDim = df_test.shape[1]\n",
        "outputDim = 1\n",
        "lr = 0.001\n",
        "iterations = 20\n",
        "batch_size = 32\n",
        "\n",
        "dataDim = train_data_input.shape[1]\n",
        "\n",
        "print(dataDim)\n",
        "test_data_input_max = np.max(test_data_input)\n",
        "train_data_input_max = np.max(train_data_input)\n",
        "test_data_output_max = np.max(test_data_output)\n",
        "train_data_output_max = np.max(train_data_output)\n",
        "\n",
        "test_data_input_min = np.min(test_data_input)\n",
        "train_data_input_min = np.min(train_data_input)\n",
        "test_data_output_min = np.min(test_data_output)\n",
        "train_data_output_min = np.min(train_data_output)\n",
        "\n",
        "print(test_data_output_max)\n",
        "print(test_data_output_min)\n",
        "\n",
        "train_data_input = MinMaxScaler(train_data_input)\n",
        "train_data_output = MinMaxScaler(train_data_output)\n",
        "test_data_input = MinMaxScaler(test_data_input)\n",
        "test_data_output = MinMaxScaler(test_data_output)\n",
        "\n",
        "train_data = MinMaxScaler(train_data)\n",
        "test_data = MinMaxScaler(test_data)\n",
        "\n",
        "train_data = df_train.iloc[:,:]\n",
        "test_data = df_test.iloc[:,:]\n",
        "print(train_data)\n",
        "print(test_data)\n",
        "\n",
        "trainSize = int(len(train_data))\n",
        "trainSet = train_data[0:trainSize]\n",
        "testSize = int(len(test_data))\n",
        "testSet = test_data[0:testSize]\n",
        "testSet_for_result = testSet\n",
        "\n",
        "trainSet_max = np.max(trainSet)\n",
        "trainSet_min = np.min(trainSet)\n",
        "testSet_max = np.max(testSet)\n",
        "testSet_min = np.min(testSet)\n",
        "trainSet_max = (trainSet_max[dataDim-1])\n",
        "trainSet_min = (trainSet_min[dataDim-1])\n",
        "testSet_max = (testSet_max[dataDim])\n",
        "testSet_min = (testSet_min[dataDim])\n",
        "\n",
        "\n",
        "trainSet = MinMaxScaler(trainSet)\n",
        "testSet = MinMaxScaler(testSet)\n",
        "\n",
        "print(trainSet.shape) # (5807,5)\n",
        "print(testSet.shape) # (10882,5)\n",
        "\n",
        "print(testSet_max)\n",
        "print(testSet_min)\n",
        "\n"
      ],
      "metadata": {
        "id": "lNF3xvHgqGhN"
      },
      "execution_count": null,
      "outputs": []
    },
    {
      "cell_type": "code",
      "source": [
        "# Data Dimension matching for CNN\n",
        "print(train_data_input.shape,type(train_data_input))\n",
        "train_data_input_np = train_data_input.to_numpy()\n",
        "print(train_data_input_np.shape,type(train_data_input_np))\n",
        "train_data_input_np2 = train_data_input_np.reshape((train_data_input_np.shape[0],train_data_input_np.shape[1],1))\n",
        "train_data_output_np2 = train_data_output.to_numpy()\n",
        "print(train_data_input_np2.shape)\n",
        "print(train_data_output_np2.shape)"
      ],
      "metadata": {
        "id": "a5aIEGSfQDtr"
      },
      "execution_count": null,
      "outputs": []
    },
    {
      "cell_type": "code",
      "source": [
        "#Data Windowing\n",
        "def sliding_window(time_series, seq_length):\n",
        "    dataX = []\n",
        "    dataY = []\n",
        "    for i in range(0, len(time_series) - seq_length): \n",
        "        print(i)\n",
        "        _x = time_series.iloc[i:i + seq_length, : ]\n",
        "        _y = time_series.iloc[i + seq_length, ]  \n",
        "        #print(_x, \"->\", _y)\n",
        "        dataX.append(_x)\n",
        "        dataY.append(_y)\n",
        "    return np.array(dataX), np.array(dataY)\n",
        "\n",
        "trainX, trainY = sliding_window(trainSet, seqLength)\n",
        "testX, testY = sliding_window(testSet, seqLength)\n",
        "print(\"Finished\")"
      ],
      "metadata": {
        "id": "xH8ZYbcZp4CZ"
      },
      "execution_count": null,
      "outputs": []
    },
    {
      "cell_type": "code",
      "source": [
        "from tensorflow import keras\n",
        "from tensorflow.keras import layers\n",
        "from keras.layers.convolutional import Conv2D\n",
        "from keras.layers.convolutional import MaxPooling2D\n",
        "\n",
        "# Hyper Parameter\n",
        "filters = 4\n",
        "kernel_size = (2,2)\n",
        "pooling_size = (2,2)\n",
        "stride = (1,1)\n",
        "input_shape = train_data.shape[1]\n",
        "outputDim = input_shape\n",
        "hiddenDim = 20\n",
        "initializer = tf.keras.initializers.GlorotNormal()\n",
        "After_Conv = 56 # Check before Run with model summary\n",
        "\n",
        "#LSTM after CNN\n",
        "model = keras.Sequential()\n",
        "model.add(Conv2D(filters = filters, kernel_size = kernel_size, strides = stride, activation = 'relu', input_shape = (seqLength,input_shape,1)))\n",
        "model.add(Conv2D(filters = filters, kernel_size = kernel_size, strides = stride, activation = 'relu',))\n",
        "model.add(Conv2D(filters = filters, kernel_size = kernel_size, strides = stride, activation = 'relu',))\n",
        "model.add(Flatten())\n",
        "model.add(layers.Reshape((After_Conv, 1)))\n",
        "model.add(layers.LSTM(units = hiddenDim, activation='tanh',input_shape = (None,After_Conv, 1), return_sequences = True, kernel_initializer = initializer))\n",
        "model.add(layers.LSTM(units = hiddenDim, activation = 'tanh',return_sequences = False, kernel_initializer = initializer))\n",
        "model.add(layers.Dense(outputDim, activation='linear'))\n",
        "model.compile(optimizer='adam', loss='mse')\n",
        "model.summary()"
      ],
      "metadata": {
        "id": "GS4-OEMiqHQ8"
      },
      "execution_count": null,
      "outputs": []
    },
    {
      "cell_type": "code",
      "source": [
        "#Training\n",
        "print(trainX.shape)\n",
        "print(trainY.shape)\n",
        "hist = model.fit(trainX,trainY, epochs = iterations, verbose = 0)"
      ],
      "metadata": {
        "id": "LYnKL-XSQur7"
      },
      "execution_count": null,
      "outputs": []
    },
    {
      "cell_type": "code",
      "source": [
        "#Evaluating\n",
        "print(input_shape)\n",
        "batch_size = 16\n",
        "\n",
        "#res = model.evaluate(trainX, trainY, batch_size = batch_size)\n",
        "print(\"Accuracy : \",res)\n",
        "print(testSet_max)\n",
        "print(testSet_min)\n",
        "estimated = model.predict(testX, verbose = 0)\n",
        "estimated = back_MinMax(estimated, testSet_max, testSet_min)\n",
        "estimated = estimated[:,-1]\n",
        "real = testSet_for_result.iloc[:,-1] # estimated + seqLength\n",
        "\n",
        "print(\"Estimated : \",estimated.shape, estimated)\n",
        "print(\"Real : \",real.shape, real)"
      ],
      "metadata": {
        "id": "rgsgvscz2xmw"
      },
      "execution_count": null,
      "outputs": []
    },
    {
      "cell_type": "code",
      "source": [
        "#Visualization\n",
        "import matplotlib.pyplot as plt\n",
        "\n",
        "plt.figure()\n",
        "plt.plot(estimated[:len(estimated)],label = \"Estimated by Conv2D,LSTM Mixture Model\")\n",
        "plt.plot(real[:len(real)], label = \"Real\")\n",
        "plt.legend(prop = {'size':10})\n",
        "\n",
        "print(\"Estimated : \",estimated.shape,estimated)\n",
        "print(\"Real : \",real.shape, real)"
      ],
      "metadata": {
        "id": "1IguNQ3e4o3R"
      },
      "execution_count": null,
      "outputs": []
    }
  ]
}